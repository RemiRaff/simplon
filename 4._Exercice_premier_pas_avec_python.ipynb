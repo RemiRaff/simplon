{
 "cells": [
  {
   "cell_type": "code",
   "execution_count": 6,
   "metadata": {},
   "outputs": [
    {
     "name": "stdout",
     "output_type": "stream",
     "text": [
      "Donner un verbe du 1er groupe: manger\n",
      "je mange\n",
      "tu manges\n",
      "il/elle/on mange\n",
      "nous mangons\n",
      "vous mangez\n",
      "ils/elles mangent\n"
     ]
    }
   ],
   "source": [
    "# présent de l'indicatif d'un verbe\n",
    "verbe=input(\"Donner un verbe du 1er groupe: \")\n",
    "\n",
    "pronoms=[\"je\",\"tu\",\"il/elle/on\",\"nous\",\"vous\",\"ils/elles\"]\n",
    "terminaisons=[\"e\",\"es\",\"e\",\"ons\",\"ez\",\"ent\"]\n",
    "\n",
    "radical=verbe[0:-2]\n",
    "\n",
    "# ATTENTION cas particuliers verbes en -ger, -cer, -yer, -eler et -eter....\n",
    "# ET lever amener céder espérer\n",
    "for i in range(len(terminaisons)):\n",
    "    print(pronoms[i]+\" \"+radical+terminaisons[i])"
   ]
  },
  {
   "cell_type": "code",
   "execution_count": 1,
   "metadata": {},
   "outputs": [
    {
     "name": "stdout",
     "output_type": "stream",
     "text": [
      "Entrez le premier mot: JAPON\n",
      "Entrez le deuxième mot: SAVON\n",
      "Les mots JAPON et SAVON ont une distance de Hamming de: 2\n"
     ]
    }
   ],
   "source": [
    "# distance de Hamming\n",
    "mot1=input(\"Entrez le premier mot: \")\n",
    "mot2=input(\"Entrez le deuxième mot: \")\n",
    "distanceHamming=0\n",
    "\n",
    "if len(mot1)==len(mot2): # on continue\n",
    "    for i in range(len(mot1)):\n",
    "        if mot1[i]!=mot2[i]:\n",
    "            distanceHamming+=1\n",
    "    print(\"Les mots\",mot1,\"et\",mot2,\"ont une distance de Hamming de:\",distanceHamming)\n",
    "else:\n",
    "    print(\"Les mots sont de longueur différente.\")\n",
    "\n"
   ]
  },
  {
   "cell_type": "code",
   "execution_count": 9,
   "metadata": {},
   "outputs": [
    {
     "name": "stdout",
     "output_type": "stream",
     "text": [
      "Entrer un mot: abcdefgh\n",
      "L'inverse de abcdefgh est: hgfedcba\n"
     ]
    }
   ],
   "source": [
    "# mot renversé\n",
    "mot=input(\"Entrer un mot: \")\n",
    "motInv=\"\"\n",
    "\n",
    "for i in range(len(mot)):\n",
    "    motInv+=mot[len(mot)-i-1]\n",
    "\n",
    "print(\"L'inverse de\",mot,\"est:\",motInv)"
   ]
  },
  {
   "cell_type": "code",
   "execution_count": 13,
   "metadata": {},
   "outputs": [
    {
     "name": "stdout",
     "output_type": "stream",
     "text": [
      "Entrer la valeur de a: 2\n",
      "Entrer la valeur de b: -1\n",
      "Entrer la valeur de c: -6\n",
      "La solution est: x1= -1.5  x2= 2.0\n"
     ]
    }
   ],
   "source": [
    "# cacul des solutions polynôme de degré 2\n",
    "from math import sqrt\n",
    "\n",
    "a=float(input(\"Entrer la valeur de a: \"))\n",
    "b=float(input(\"Entrer la valeur de b: \"))\n",
    "c=float(input(\"Entrer la valeur de c: \"))\n",
    "\n",
    "if a==0:\n",
    "    print(\"Le polynôme n'est pas un polynôme du 2nd degrés.\")\n",
    "else:\n",
    "    delta=b**2-4*a*c\n",
    "    if delta==0:\n",
    "        print(\"La solution unique est: \",-b/(2*a))\n",
    "    elif delta<0:\n",
    "        print(\"L'équation n'a pas de solution réelle.\")\n",
    "    else:\n",
    "        print(\"La solution est: x1=\",(-b-sqrt(delta))/(2*a),\" x2=\",(-b+sqrt(delta))/(2*a))"
   ]
  },
  {
   "cell_type": "code",
   "execution_count": 18,
   "metadata": {},
   "outputs": [
    {
     "name": "stdout",
     "output_type": "stream",
     "text": [
      "Entrer un nombre entier:20\n",
      "Le somme des 20 premiers nombres est 210\n"
     ]
    }
   ],
   "source": [
    "# additionner les n premiers entiers\n",
    "n=int(input(\"Entrer un nombre entier:\"))\n",
    "somme=0\n",
    "\n",
    "for i in range(n+1):\n",
    "    somme+=i\n",
    "print(\"Le somme des\",n,\"premiers nombres est\",somme)"
   ]
  },
  {
   "cell_type": "code",
   "execution_count": 15,
   "metadata": {},
   "outputs": [
    {
     "name": "stdout",
     "output_type": "stream",
     "text": [
      "XX01234567890123456789012345678901234567890123456789\n",
      "0.50000000000000000000000000000000000000000000000000\n",
      "0.25000000000000000000000000000000000000000000000000\n",
      "0.12500000000000000000000000000000000000000000000000\n",
      "0.06250000000000000000000000000000000000000000000000\n",
      "0.03125000000000000000000000000000000000000000000000\n",
      "0.01562500000000000000000000000000000000000000000000\n",
      "0.00781250000000000000000000000000000000000000000000\n",
      "0.00390625000000000000000000000000000000000000000000\n",
      "0.00195312500000000000000000000000000000000000000000\n",
      "0.00097656250000000000000000000000000000000000000000\n",
      "0.00048828125000000000000000000000000000000000000000\n",
      "0.00024414062500000000000000000000000000000000000000\n",
      "0.00012207031250000000000000000000000000000000000000\n",
      "0.00006103515625000000000000000000000000000000000000\n",
      "0.00003051757812500000000000000000000000000000000000\n",
      "0.00001525878906250000000000000000000000000000000000\n",
      "0.00000762939453125000000000000000000000000000000000\n",
      "0.00000381469726562500000000000000000000000000000000\n",
      "0.00000190734863281250000000000000000000000000000000\n",
      "0.00000095367431640625000000000000000000000000000000\n",
      "0.00000047683715820312500000000000000000000000000000\n",
      "0.00000023841857910156250000000000000000000000000000\n",
      "0.00000011920928955078125000000000000000000000000000\n",
      "0.00000005960464477539062500000000000000000000000000\n",
      "0.00000002980232238769531250000000000000000000000000\n",
      "0.00000001490116119384765625000000000000000000000000\n",
      "0.00000000745058059692382812500000000000000000000000\n",
      "0.00000000372529029846191406250000000000000000000000\n",
      "0.00000000186264514923095703125000000000000000000000\n",
      "0.00000000093132257461547851562500000000000000000000\n",
      "0.00000000046566128730773925781250000000000000000000\n",
      "0.00000000023283064365386962890625000000000000000000\n",
      "0.00000000011641532182693481445312500000000000000000\n",
      "0.00000000005820766091346740722656250000000000000000\n",
      "0.00000000002910383045673370361328125000000000000000\n",
      "0.00000000001455191522836685180664062500000000000000\n",
      "0.00000000000727595761418342590332031250000000000000\n",
      "0.00000000000363797880709171295166015625000000000000\n",
      "0.00000000000181898940354585647583007812500000000000\n",
      "0.00000000000090949470177292823791503906250000000000\n",
      "0.00000000000045474735088646411895751953125000000000\n",
      "0.00000000000022737367544323205947875976562500000000\n",
      "0.00000000000011368683772161602973937988281250000000\n",
      "0.00000000000005684341886080801486968994140625000000\n",
      "0.00000000000002842170943040400743484497070312500000\n",
      "0.00000000000001421085471520200371742248535156250000\n",
      "0.00000000000000710542735760100185871124267578125000\n",
      "0.00000000000000355271367880050092935562133789062500\n",
      "0.00000000000000177635683940025046467781066894531250\n",
      "0.00000000000000088817841970012523233890533447265625\n"
     ]
    }
   ],
   "source": [
    "chaine=\"0123456789\"\n",
    "chaine=chaine*5\n",
    "chaine=\"XX\"+chaine\n",
    "print(chaine)\n",
    "resultat=1\n",
    "\n",
    "for i in range(50):\n",
    "    resultat=resultat/2\n",
    "    print(\"{:.50f}\".format(resultat)) # f\"{str(resultat):.50f}\" => ERROR"
   ]
  },
  {
   "cell_type": "code",
   "execution_count": 1,
   "metadata": {},
   "outputs": [
    {
     "name": "stdout",
     "output_type": "stream",
     "text": [
      "Entrer la borne supérieure de la recherche: 99\n",
      "Entre 10 et 99 , il y a 18 nombres comportant un 7.\n"
     ]
    }
   ],
   "source": [
    "# compter les nombres comportant un 7\n",
    "# pourquoi un input???\n",
    "compteur=0\n",
    "\n",
    "borne=int(input(\"Entrer la borne supérieure de la recherche: \"))\n",
    "\n",
    "for i in range(10,borne+1):\n",
    "    if str(i).find('7')!=-1:\n",
    "        # print(i)\n",
    "        compteur+=1\n",
    "\n",
    "print(\"Entre 10 et\",borne,\", il y a\",compteur,\"nombres comportant un 7.\")"
   ]
  },
  {
   "cell_type": "code",
   "execution_count": 28,
   "metadata": {},
   "outputs": [
    {
     "name": "stdout",
     "output_type": "stream",
     "text": [
      "Enter un mot: tototata\n",
      "Dans tototata il y a 4 consonnes.\n"
     ]
    }
   ],
   "source": [
    "# compter les consonnes d'un mot\n",
    "mot=input(\"Enter un mot: \")\n",
    "\n",
    "motUP=mot.upper()\n",
    "consonnes=\"BCDFGHJKLMNPQRSTVWXZ\"\n",
    "consCompt=0\n",
    "\n",
    "for i in range(len(mot)):\n",
    "    if consonnes.find(motUP[i])!=-1: # motUP[i] in consonnes\n",
    "        consCompt+=1\n",
    "\n",
    "print(\"Dans\",mot,\"il y a\",consCompt,\"consonnes.\")"
   ]
  },
  {
   "cell_type": "code",
   "execution_count": 48,
   "metadata": {},
   "outputs": [
    {
     "name": "stdout",
     "output_type": "stream",
     "text": [
      "Enter un mot: Remi 007\n",
      "Remi 007 devient une fois codé: Uhpl 007\n"
     ]
    }
   ],
   "source": [
    "# encoder decoder une chaine\n",
    "mot=input(\"Enter un mot: \")\n",
    "pas=3\n",
    "motCode=\"\"\n",
    "motDecod=\"\"\n",
    "\n",
    "majus=\"ABCDEFGHIJKLMNOPQRSTUVWXYZ\"\n",
    "minus=\"abcdefghijklmnopqrstuvwxyz\"\n",
    "\n",
    "# a=97 A=65 Z=90\n",
    "for i in range(len(mot)):\n",
    "    if majus.find(mot[i])!=-1: # majuscule\n",
    "        motCode=motCode+chr(65+((ord(mot[i])+pas-65)%26))\n",
    "    elif minus.find(mot[i])!=-1: # minus\n",
    "        motCode=motCode+chr(97+((ord(mot[i])+pas-97)%26))\n",
    "    else: # autre chose\n",
    "        motCode=motCode+mot[i]\n",
    "        \n",
    "print(mot,\"devient une fois codé:\",motCode)"
   ]
  },
  {
   "cell_type": "code",
   "execution_count": 49,
   "metadata": {},
   "outputs": [
    {
     "name": "stdout",
     "output_type": "stream",
     "text": [
      "Enter un mot: Uhpl 007\n",
      "Uhpl 007 devient une fois décodé: Remi 007\n"
     ]
    }
   ],
   "source": [
    "# encoder decoder une chaine\n",
    "mot=input(\"Enter un mot: \")\n",
    "pas=3\n",
    "motCode=\"\"\n",
    "motDecod=\"\"\n",
    "\n",
    "majus=\"ABCDEFGHIJKLMNOPQRSTUVWXYZ\"\n",
    "minus=\"abcdefghijklmnopqrstuvwxyz\"\n",
    "\n",
    "# a=97 A=65 Z=90\n",
    "for i in range(len(mot)):\n",
    "    if majus.find(mot[i])!=-1: # majuscule\n",
    "        motCode=motCode+chr(65+((ord(mot[i])-pas-65)%26))\n",
    "    elif minus.find(mot[i])!=-1: # minus\n",
    "        motCode=motCode+chr(97+((ord(mot[i])-pas-97)%26))\n",
    "    else: # autre chose\n",
    "        motCode=motCode+mot[i]\n",
    "        \n",
    "print(mot,\"devient une fois décodé:\",motCode)"
   ]
  },
  {
   "cell_type": "code",
   "execution_count": 51,
   "metadata": {},
   "outputs": [
    {
     "name": "stdout",
     "output_type": "stream",
     "text": [
      "html\n",
      "head\n",
      "title\n",
      "/title\n",
      "/head\n",
      "body\n",
      "h1\n",
      "/h1\n",
      "/body\n",
      "/html\n"
     ]
    }
   ],
   "source": [
    "# Afficher les balises html\n",
    "htmlPAGE=\"<html> <head> <title> Mon Titre </title> </head> <body><h1>Titre 1</h1> Texte sur la page </body></html>\"\n",
    "indexFIN=0\n",
    "\n",
    "for i in range(len(htmlPAGE)):\n",
    "    if htmlPAGE[i]=='<': # overture d'une balise\n",
    "        indexFIN=htmlPAGE.find('>',i)\n",
    "        print(htmlPAGE[i+1:indexFIN])"
   ]
  },
  {
   "cell_type": "code",
   "execution_count": 74,
   "metadata": {},
   "outputs": [
    {
     "name": "stdout",
     "output_type": "stream",
     "text": [
      "Nb de jours dans le mois: 28\n",
      "Entrer le premier jour de la semaine: (1 Lundi 7 Dimanche)7\n",
      "LUN MAR MER JEU VEN SAM DIM\n",
      "                          1 \n",
      "  2   3   4   5   6   7   8 \n",
      "  9  10  11  12  13  14  15 \n",
      " 16  17  18  19  20  21  22 \n",
      " 23  24  25  26  27  28 \n"
     ]
    }
   ],
   "source": [
    "# calendrier du mois\n",
    "nbJours=int(input(\"Nb de jours dans le mois: \"))\n",
    "jourSem=int(input(\"Entrer le premier jour de la semaine: (1 Lundi 7 Dimanche)\"))\n",
    "mois=\"\"\n",
    "jour,j=2-jourSem,1\n",
    "\n",
    "print(\"LUN MAR MER JEU VEN SAM DIM\")\n",
    "while jour<(nbJours+1):\n",
    "    if jour<=0:\n",
    "        mois=mois+\"    \"\n",
    "    elif jour<10:\n",
    "        mois=mois+\"  \"+str(jour)+\" \"\n",
    "    else:\n",
    "        mois=mois+\" \"+str(jour)+\" \"\n",
    "    if j%7==0:\n",
    "        mois=mois+'\\n'\n",
    "    jour,j=jour+1,j+1\n",
    "print(mois)"
   ]
  },
  {
   "cell_type": "code",
   "execution_count": 79,
   "metadata": {},
   "outputs": [
    {
     "name": "stdout",
     "output_type": "stream",
     "text": [
      "Entrer le nombre de tirages: 10000\n",
      "Sur 10000 tirages, il y a 49 % de pile et 50 % de face.\n"
     ]
    }
   ],
   "source": [
    "# Stat sur Pile Face\n",
    "import random\n",
    "\n",
    "nbTirage=int(input(\"Entrer le nombre de tirages: \"))\n",
    "pile,face=0,0\n",
    "\n",
    "for i in range(nbTirage):\n",
    "    PileFace = random.randint(0,1)\n",
    "    if PileFace == 0:\n",
    "        pile+=1\n",
    "    else:\n",
    "        face+=1\n",
    "\n",
    "print(\"Sur\",nbTirage,\"tirages, il y a\",pile*100//nbTirage,\"% de pile et\",face*100//nbTirage,\"% de face.\")"
   ]
  },
  {
   "cell_type": "code",
   "execution_count": null,
   "metadata": {},
   "outputs": [],
   "source": []
  }
 ],
 "metadata": {
  "kernelspec": {
   "display_name": "Python 3",
   "language": "python",
   "name": "python3"
  },
  "language_info": {
   "codemirror_mode": {
    "name": "ipython",
    "version": 3
   },
   "file_extension": ".py",
   "mimetype": "text/x-python",
   "name": "python",
   "nbconvert_exporter": "python",
   "pygments_lexer": "ipython3",
   "version": "3.8.5"
  }
 },
 "nbformat": 4,
 "nbformat_minor": 4
}

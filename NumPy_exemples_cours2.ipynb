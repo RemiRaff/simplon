{
 "cells": [
  {
   "cell_type": "code",
   "execution_count": 24,
   "metadata": {},
   "outputs": [
    {
     "name": "stdout",
     "output_type": "stream",
     "text": [
      "[16.29, ['Hungary'], 0.0, ['Afghanistan', 'Micronesia (Federated States of)', 'Lithuania', 'Kuwait', 'Somalia', 'Iran (Islamic Republic of)', 'Libya', 'Bangladesh', 'Belize']]\n"
     ]
    }
   ],
   "source": [
    "import numpy as np\n",
    "\n",
    "world_alcohol = np.genfromtxt(\"world_alcohol.csv\", delimiter=',', dtype=\"U75\", skip_header=True)\n",
    "# skip_header=1, dtype='str'?\n",
    "\n",
    "# print(world_alcohol)\n",
    "# Result: [['1986' 'Western Pacific' 'Viet Nam' 'Wine' '0']\n",
    "#          ['1986' 'Americas' 'Uruguay' 'Other' '0.5'] ....\n",
    "\n",
    "countries_is_canada=world_alcohol[:,2]=='Canada' # masque constiué de False et True\n",
    "# print(countries_is_canada) # Result: [False False False ... False False False]\n",
    "\n",
    "countries_canada = world_alcohol[countries_is_canada]\n",
    "# print(countries_canada) # R: [['1984' 'Americas' 'Canada' 'Spirits' '3.35'] ....\n",
    "# print('----')\n",
    "# print(countries_canada.shape) # R: (20, 5) 20 lignes de 5 elem. Tuple\n",
    "\n",
    "# masque\n",
    "country_algeria=world_alcohol[:,2]==\"Algeria\" # position , dans ,2 fait ERROR\n",
    "# print(country_algeria) # test masque condition\n",
    "countries_algeria=world_alcohol[country_algeria]\n",
    "# print(countries_algeria.shape) # R: (20, 5)\n",
    "\n",
    "# masque 1984\n",
    "year_1984=world_alcohol[:,0]==\"1984\"\n",
    "# print(year_1984)\n",
    "years_1984=world_alcohol[year_1984]\n",
    "# print(years_1984.shape) # R: (646, 5)\n",
    "# print(years_1984)\n",
    "\n",
    "# masque à 2 conditions AND\n",
    "is_algeria_and_1986= (world_alcohol[:,2]==\"Algeria\") & (world_alcohol[:,0]==\"1986\")\n",
    "algeria_and_1986= world_alcohol[is_algeria_and_1986]\n",
    "# print(algeria_and_1986) # R: [['1986' 'Africa' 'Algeria' 'Wine' '0.1'] ....\n",
    "\n",
    "# masque à 2 conditions OR\n",
    "is_algeria_or_canada= (world_alcohol[:,2]==\"Algeria\") | (world_alcohol[:,2]==\"Canada\")\n",
    "rows_algeria_or_canada= world_alcohol[is_algeria_or_canada]\n",
    "# print(rows_algeria_or_canada) # R: [['1984' 'Americas' 'Canada' 'Spirits' '3.35'] ....\n",
    "# print(rows_algeria_or_canada.shape) # R: (40, 5)\n",
    "\n",
    "# copy pour ne pas altérer le source\n",
    "world_alcohol2=world_alcohol.copy()\n",
    "# print(world_alcohol2[:,0]) # R: ['1986' '1986' '1985' ... '1986' '1987' '1986'] affiche les dates\n",
    "\n",
    "# changer l'année 1986 par 2018\n",
    "world_alcohol2[:,0][world_alcohol2[:,0]==\"1986\"] = 2018\n",
    "# sur les dates on applique le masque puis on attribue la nouvelle valeur\n",
    "# print(world_alcohol2) # R: [['2018' 'Western Pacific' 'Viet Nam' 'Wine' '0'] ....\n",
    "\n",
    "# remplacer Wine par Beer\n",
    "m_wine= world_alcohol[:,3]==\"Wine\" # masque\n",
    "world_alcohol2[:,3][m_wine] = \"Beer\"\n",
    "# print(world_alcohol2)\n",
    "# R: [['2018' 'Western Pacific' 'Viet Nam' 'Beer' '0']\n",
    "#     ['2018' 'Americas' 'Uruguay' 'Other' '0.5']\n",
    "#     ['1985' 'Africa' \"Cte d'Ivoire\" 'Beer' '1.62']\n",
    "\n",
    "\n",
    "# masque vide sur 4\n",
    "is_value_empty = world_alcohol[:,4] == '' # peut être is_value_empty = (world_alcohol[:,4] == '')\n",
    "# print(is_value_empty)\n",
    "world_alcohol[:,4][is_value_empty] = '0'\n",
    "# world_alcohol[is_value_empty,4] = '0' peut être remplacé\n",
    "# print(world_alcohol)\n",
    "\n",
    "alcohol_consumption = world_alcohol[:,4]\n",
    "alcohol_consumption = alcohol_consumption.astype(float) # transtypage\n",
    "# print(alcohol_consumption)\n",
    "# R: [0.   0.5  1.62 ... 2.54 0.   5.15]\n",
    "\n",
    "total_alcohol = alcohol_consumption.sum()\n",
    "average_alcohol = alcohol_consumption.mean()\n",
    "# print(\"Total alcool:\",total_alcohol,\"Moyenne alcool:\",average_alcohol)\n",
    "# R: Total alcool: 3908.96 Moyenne alcool: 1.2001719373656738\n",
    "\n",
    "# calcul moy et total d'alcool pour canada,1987\n",
    "canada_1987 = (world_alcohol[:,2]==\"Canada\") & (world_alcohol[:,0]==\"1987\") # masque\n",
    "ac_canada_1987 = world_alcohol[canada_1987,4].astype(float) # récupère la 4ieme colonne correspondant au masque\n",
    "\n",
    "# print(ac_canada_1987.sum(),ac_canada_1987.mean())\n",
    "# R: 9.120000000000001 2.2800000000000002\n",
    "\n",
    "# AUTRE FACON avec alcohol_consumption\n",
    "# total_canada_1987 = alcohol_consumption[country_canada_1987].sum()\n",
    "# average_canada_1987 = alcohol_consumption[country_canada_1987].mean()\n",
    "\n",
    "# Replace de dates autre façon\n",
    "# x = np.char.replace(world_alcohol_2[:,0],\"1986\",\"2018\" )\n",
    "# print(x)\n",
    "\n",
    "\n",
    "# consom moy & sum Beer pour Amériques\n",
    "m_americas_beer= (world_alcohol[:,1]==\"Americas\") & (world_alcohol[:,3]==\"Beer\") # masque\n",
    "ac_americas_beer= world_alcohol[m_americas_beer,4].astype(float) # récupère les données col 5 et typage en float\n",
    "# print(ac_americas_beer.mean(),\"-\",ac_americas_beer.sum())\n",
    "# R: 2.0001290322580645 - 310.02\n",
    "\n",
    "\n",
    "# consom pour chaque pays\n",
    "cons_pays={} # dictionnaire peut aussi être créé avec dict()\n",
    "pays=world_alcohol[:,2]\n",
    "# print(pays) # liste de pays\n",
    "for i in pays:\n",
    "    m_pays=(world_alcohol[:,2]==i) & (world_alcohol[:,0]==\"1989\") # masque pour pays & annee\n",
    "    ca_pays=world_alcohol[m_pays,4].astype(float) # possible car les '' sont traités auparavant par '0'\n",
    "    cons_pays[i]=ca_pays.sum()\n",
    "# print(cons_pays) # afficher le dico\n",
    "# R: {'Viet Nam': 0.16, 'Uruguay': 7.4399999999999995, \"Cte d'Ivoire\": 2.2, 'Colombia': 6.960000000000001,\n",
    "\n",
    "\n",
    "# pays plus alcool\n",
    "def minmaxPays(monDico):\n",
    "    \"Prend un dict avec item pays:conso d'alcool ex: 'Albania': 1.73\"\n",
    "    lMax,lMin,vMax,vMin=[],[],0,5000\n",
    "    \n",
    "    for i in monDico.keys():        \n",
    "        if monDico[i]<vMin:\n",
    "            vMin=monDico[i]\n",
    "            lMin=[i]\n",
    "        elif monDico[i]==vMin:\n",
    "            lMin.append(i) # lMax+=i fait une ERREUR, i est un array.str pas une liste\n",
    "        if monDico[i]>vMax:\n",
    "            vMax=monDico[i]\n",
    "            lMax=[i]\n",
    "        elif monDico[i]==vMax:\n",
    "            lMax.append(i) # lMax+=i fait une ERREUR, i est un array.str pas une liste\n",
    "    \n",
    "    return [vMax,lMax,vMin,lMin]\n",
    "\n",
    "\n",
    "# print(minmaxPays(cons_pays))\n",
    "# [16.29, ['Hungary'], 0.0, ['Afghanistan', 'Micronesia (Federated States of)', 'Lithuania', 'Kuwait',\n",
    "#                            'Somalia', 'Iran (Islamic Republic of)', 'Libya', 'Bangladesh', 'Belize']]\n",
    "\n",
    "\n",
    "# fonction\n",
    "def conso_annee(annee=1989):\n",
    "    cons_pays={} # dictionnaire peut aussi être créé avec dict()\n",
    "    pays=world_alcohol[:,2]\n",
    "    \n",
    "    for i in pays:\n",
    "        m_pays=(world_alcohol[:,2]==i) & (world_alcohol[:,0]==str(annee)) # masque pour pays & annee\n",
    "        ca_pays=world_alcohol[m_pays,4].astype(float) # possible car les '' sont traités auparavant par '0'\n",
    "        cons_pays[i]=(ca_pays.sum(),ca_pays.mean())\n",
    "    return cons_pays\n",
    "# print(conso_annee())\n",
    "# R: {'Viet Nam': (0.16, 0.04), 'Uruguay': (7.4399999999999995, 1.8599999999999999), \"Cte d'Ivoire\": (2.2, 0.55),"
   ]
  },
  {
   "cell_type": "code",
   "execution_count": 22,
   "metadata": {},
   "outputs": [
    {
     "name": "stdout",
     "output_type": "stream",
     "text": [
      "{'Afghanistan': 0.0, 'Albania': 1.73, 'Algeria': 0.4, 'Angola': 2.28, 'Antigua and Barbuda': 4.69, 'Argentina': 10.82, 'Australia': 12.09, 'Austria': 13.9, 'Bahamas': 12.290000000000001, 'Bahrain': 4.89, 'Bangladesh': 0.0, 'Belarus': 7.9799999999999995, 'Belgium': 11.61, 'Belize': 0.0, 'Benin': 1.3800000000000001, 'Bhutan': 0.31, 'Bolivia (Plurinational State of)': 3.05, 'Botswana': 4.63, 'Brazil': 5.52, 'Brunei Darussalam': 2.7800000000000002, 'Bulgaria': 11.43, 'Burkina Faso': 3.99, 'Burundi': 8.159999999999998, 'Cabo Verde': 2.79, 'Cambodia': 0.33, 'Cameroon': 6.359999999999999, 'Canada': 9.0, 'Central African Republic': 2.5199999999999996, 'Chad': 0.30000000000000004, 'Chile': 8.649999999999999, 'China': 3.33, 'Colombia': 6.960000000000001, 'Comoros': 0.10999999999999999, 'Congo': 3.1500000000000004, 'Costa Rica': 5.3999999999999995, 'Croatia': 10.92, \"Cte d'Ivoire\": 2.2, 'Cuba': 4.37, 'Cyprus': 9.29, 'Czech Republic': 13.009999999999998, \"Democratic People's Republic of Korea\": 3.6799999999999997, 'Democratic Republic of the Congo': 1.92, 'Denmark': 11.649999999999999, 'Djibouti': 0.87, 'Dominican Republic': 4.53, 'Ecuador': 2.54, 'Egypt': 0.42000000000000004, 'El Salvador': 1.77, 'Equatorial Guinea': 6.49, 'Eritrea': 0.29, 'Ethiopia': 0.8600000000000001, 'Fiji': 1.9600000000000002, 'Finland': 9.419999999999998, 'France': 16.05, 'Gabon': 9.34, 'Gambia': 1.6300000000000001, 'Germany': 14.64, 'Ghana': 1.8599999999999999, 'Greece': 10.15, 'Guatemala': 2.47, 'Guinea': 0.21, 'Guinea-Bissau': 2.67, 'Guyana': 9.940000000000001, 'Haiti': 5.81, 'Honduras': 2.15, 'Hungary': 16.29, 'Iceland': 5.359999999999999, 'India': 1.66, 'Indonesia': 0.07, 'Iran (Islamic Republic of)': 0.0, 'Iraq': 0.75, 'Ireland': 11.79, 'Israel': 2.0300000000000002, 'Italy': 10.899999999999999, 'Jamaica': 3.03, 'Japan': 7.74, 'Jordan': 0.19, 'Kenya': 2.82, 'Kiribati': 0.48, 'Kuwait': 0.0, 'Kyrgyzstan': 4.279999999999999, \"Lao People's Democratic Republic\": 5.95, 'Latvia': 7.039999999999999, 'Lebanon': 3.94, 'Lesotho': 2.02, 'Liberia': 5.61, 'Libya': 0.0, 'Lithuania': 0.0, 'Luxembourg': 15.21, 'Madagascar': 1.38, 'Malawi': 1.02, 'Malaysia': 0.68, 'Mali': 0.6699999999999999, 'Malta': 7.13, 'Mauritania': 0.02, 'Mauritius': 3.54, 'Mexico': 5.1, 'Micronesia (Federated States of)': 0.0, 'Mongolia': 2.59, 'Morocco': 0.7, 'Mozambique': 0.39, 'Myanmar': 0.16, 'Namibia': 0.24, 'Nepal': 0.03, 'Netherlands': 10.030000000000001, 'New Zealand': 11.52, 'Nicaragua': 2.5, 'Niger': 0.11, 'Nigeria': 6.74, 'Norway': 5.08, 'Oman': 1.03, 'Pakistan': 0.02, 'Panama': 4.6000000000000005, 'Papua New Guinea': 1.1099999999999999, 'Paraguay': 6.51, 'Peru': 4.99, 'Philippines': 3.78, 'Poland': 9.33, 'Portugal': 15.350000000000001, 'Qatar': 1.4500000000000002, 'Republic of Korea': 9.620000000000001, 'Romania': 8.41, 'Russian Federation': 5.35, 'Rwanda': 7.549999999999999, 'Saint Kitts and Nevis': 4.65, 'Saint Lucia': 11.62, 'Samoa': 2.63, 'Sao Tome and Principe': 2.57, 'Saudi Arabia': 0.15, 'Senegal': 0.6100000000000001, 'Seychelles': 3.3000000000000003, 'Sierra Leone': 4.380000000000001, 'Singapore': 1.61, 'Slovakia': 12.700000000000001, 'Slovenia': 12.969999999999999, 'Solomon Islands': 0.5800000000000001, 'Somalia': 0.0, 'South Africa': 9.21, 'Spain': 13.280000000000001, 'Sri Lanka': 0.14, 'Sudan': 0.15, 'Suriname': 3.67, 'Swaziland': 6.68, 'Sweden': 7.47, 'Switzerland': 13.849999999999998, 'Syrian Arab Republic': 0.54, 'Thailand': 3.92, 'Togo': 2.2199999999999998, 'Trinidad and Tobago': 4.68, 'Tunisia': 0.95, 'Turkey': 0.72, 'Uganda': 7.8, 'Ukraine': 5.32, 'United Arab Emirates': 4.43, 'United Kingdom of Great Britain and Northern Ireland': 9.99, 'United Republic of Tanzania': 5.9, 'United States of America': 9.16, 'Uruguay': 7.4399999999999995, 'Vanuatu': 1.74, 'Venezuela (Bolivarian Republic of)': 7.87, 'Viet Nam': 0.16, 'Yemen': 0.2, 'Zambia': 3.37, 'Zimbabwe': 4.92}\n"
     ]
    }
   ],
   "source": [
    "# création du dico yanice\n",
    "def country_consumption(world, country=\"\", year=\"1989\"):\n",
    "    return world[:, 4][(world[:, 2] == country) & (world[:, 0] == year)].astype(float).sum()\n",
    "\n",
    "world_alcohol_copy=world_alcohol.copy()\n",
    "is_value_empty = world_alcohol[:, 4] == \"\"\n",
    "world_alcohol[:, 4][is_value_empty] = \"0\"\n",
    "countries = np.unique(world_alcohol_copy[:, 2])\n",
    "total_countries_consumption = { country: country_consumption(world_alcohol_copy, country) for country in countries }\n",
    "print(total_countries_consumption)"
   ]
  },
  {
   "cell_type": "code",
   "execution_count": 21,
   "metadata": {},
   "outputs": [
    {
     "name": "stdout",
     "output_type": "stream",
     "text": [
      "{'Viet Nam': 0.16, 'Uruguay': 7.4399999999999995, \"Cte d'Ivoire\": 2.2, 'Colombia': 6.960000000000001, 'Saint Kitts and Nevis': 4.65, 'Guatemala': 2.47, 'Mauritius': 3.54, 'Angola': 2.28, 'Antigua and Barbuda': 4.69, 'Nigeria': 6.74, 'Botswana': 4.63, \"Lao People's Democratic Republic\": 5.95, 'Afghanistan': 0.0, 'Guinea-Bissau': 2.67, 'Costa Rica': 5.3999999999999995, 'Seychelles': 3.3000000000000003, 'Norway': 5.08, 'Kenya': 2.82, 'Myanmar': 0.16, 'Romania': 8.41, 'Turkey': 0.72, 'Comoros': 0.10999999999999999, 'Tunisia': 0.95, 'United Kingdom of Great Britain and Northern Ireland': 9.99, 'Bahrain': 4.89, 'Italy': 10.899999999999999, 'Sierra Leone': 4.380000000000001, 'Micronesia (Federated States of)': 0.0, 'Mauritania': 0.02, 'Russian Federation': 5.35, 'Egypt': 0.42000000000000004, 'Sweden': 7.47, 'Qatar': 1.4500000000000002, 'Burkina Faso': 3.99, 'Austria': 13.9, 'Czech Republic': 13.009999999999998, 'Ukraine': 5.32, 'China': 3.33, 'Lithuania': 0.0, 'Zimbabwe': 4.92, 'Trinidad and Tobago': 4.68, 'Mexico': 5.1, 'Nicaragua': 2.5, 'Malta': 7.13, 'Switzerland': 13.849999999999998, 'Finland': 9.419999999999998, 'Saudi Arabia': 0.15, 'Kuwait': 0.0, 'El Salvador': 1.77, 'Suriname': 3.67, 'Croatia': 10.92, 'Somalia': 0.0, 'Syrian Arab Republic': 0.54, 'Iran (Islamic Republic of)': 0.0, 'Papua New Guinea': 1.1099999999999999, 'Libya': 0.0, 'Bolivia (Plurinational State of)': 3.05, 'Iraq': 0.75, 'Namibia': 0.24, 'Uganda': 7.8, 'Togo': 2.2199999999999998, 'Madagascar': 1.38, 'Mali': 0.6699999999999999, 'Pakistan': 0.02, 'Cameroon': 6.359999999999999, 'Jamaica': 3.03, 'Malawi': 1.02, 'Netherlands': 10.030000000000001, 'Ireland': 11.79, 'Sri Lanka': 0.14, 'Democratic Republic of the Congo': 1.92, 'Bahamas': 12.290000000000001, 'Lebanon': 3.94, 'Bulgaria': 11.43, 'Eritrea': 0.29, 'Niger': 0.11, 'Luxembourg': 15.21, 'Indonesia': 0.07, 'Equatorial Guinea': 6.49, \"Democratic People's Republic of Korea\": 3.6799999999999997, 'Chile': 8.649999999999999, 'Central African Republic': 2.5199999999999996, 'Spain': 13.280000000000001, 'Gambia': 1.6300000000000001, 'Ghana': 1.8599999999999999, 'Brazil': 5.52, 'Portugal': 15.350000000000001, 'Burundi': 8.159999999999998, 'Belgium': 11.61, 'Paraguay': 6.51, 'Hungary': 16.29, 'Greece': 10.15, 'India': 1.66, 'Kyrgyzstan': 4.279999999999999, 'France': 16.05, 'Zambia': 3.37, 'Israel': 2.0300000000000002, 'Swaziland': 6.68, 'Canada': 9.0, 'Cambodia': 0.33, 'Cabo Verde': 2.79, 'United Arab Emirates': 4.43, 'Peru': 4.99, 'Solomon Islands': 0.5800000000000001, 'United Republic of Tanzania': 5.9, 'Chad': 0.30000000000000004, 'Cuba': 4.37, 'Guyana': 9.940000000000001, 'Mongolia': 2.59, 'Australia': 12.09, 'Sao Tome and Principe': 2.57, 'Slovenia': 12.969999999999999, 'Benin': 1.3800000000000001, 'Algeria': 0.4, 'Venezuela (Bolivarian Republic of)': 7.87, 'Ecuador': 2.54, 'Iceland': 5.359999999999999, 'Liberia': 5.61, 'Yemen': 0.2, 'Sudan': 0.15, 'Belarus': 7.9799999999999995, 'Cyprus': 9.29, 'United States of America': 9.16, 'Vanuatu': 1.74, 'Bangladesh': 0.0, 'Philippines': 3.78, 'Slovakia': 12.700000000000001, 'Poland': 9.33, 'Senegal': 0.6100000000000001, 'Honduras': 2.15, 'Bhutan': 0.31, 'Fiji': 1.9600000000000002, 'Belize': 0.0, 'Lesotho': 2.02, 'Singapore': 1.61, 'Guinea': 0.21, 'Brunei Darussalam': 2.7800000000000002, 'Congo': 3.1500000000000004, 'Thailand': 3.92, 'Djibouti': 0.87, 'Gabon': 9.34, 'Dominican Republic': 4.53, 'Morocco': 0.7, 'New Zealand': 11.52, 'Denmark': 11.649999999999999, 'Samoa': 2.63, 'Argentina': 10.82, 'Oman': 1.03, 'Kiribati': 0.48, 'Albania': 1.73, 'Nepal': 0.03, 'Malaysia': 0.68, 'Latvia': 7.039999999999999, 'Haiti': 5.81, 'South Africa': 9.21, 'Republic of Korea': 9.620000000000001, 'Japan': 7.74, 'Mozambique': 0.39, 'Ethiopia': 0.8600000000000001, 'Panama': 4.6000000000000005, 'Germany': 14.64, 'Saint Lucia': 11.62, 'Rwanda': 7.549999999999999, 'Jordan': 0.19}\n"
     ]
    }
   ],
   "source": [
    "# création du dico rafik\n",
    "totals = {}\n",
    "\n",
    "is_year = world_alcohol[:,0] == \"1989\"\n",
    "year = world_alcohol[is_year]\n",
    "countries = world_alcohol[:,2]\n",
    "\n",
    "for country in countries:\n",
    "    is_country = (year[:,2] == country)\n",
    "    country_consumption = year[is_country]\n",
    "    alcohol_column = country_consumption[:,4]\n",
    "    is_empty = alcohol_column == ''\n",
    "    alcohol_column[is_empty] = \"0\"\n",
    "    alcohol_column = alcohol_column.astype(float)\n",
    "    totals[country] = alcohol_column.sum()\n",
    "    \n",
    "print(totals)"
   ]
  },
  {
   "cell_type": "code",
   "execution_count": 20,
   "metadata": {},
   "outputs": [
    {
     "name": "stdout",
     "output_type": "stream",
     "text": [
      "Hungary\n",
      "16.29\n"
     ]
    }
   ],
   "source": [
    "# max sans boucle mohamad\n",
    "max_key = max(totals, key= totals.get)\n",
    "print(max_key)\n",
    "all_values = totals.values()\n",
    "max_value = max(all_values)\n",
    "print(max_value)"
   ]
  },
  {
   "cell_type": "code",
   "execution_count": 25,
   "metadata": {},
   "outputs": [
    {
     "name": "stdout",
     "output_type": "stream",
     "text": [
      "Entrez une année : 1989\n",
      "{'Iceland': 5.359999999999999, 'Mongolia': 2.59, 'Romania': 8.41, 'Liberia': 5.61, 'Guatemala': 2.47, 'Uganda': 7.8, 'Gambia': 1.6300000000000001, 'China': 3.33, 'Brazil': 5.52, 'Malaysia': 0.68, 'Yemen': 0.2, 'Namibia': 0.24, 'Hungary': 16.29, 'Croatia': 10.92, 'Gabon': 9.34, 'Jordan': 0.19, 'Panama': 4.6000000000000005, 'Seychelles': 3.3000000000000003, 'Russian Federation': 5.35, 'Senegal': 0.6100000000000001, 'Trinidad and Tobago': 4.68, 'Oman': 1.03, 'Democratic Republic of the Congo': 1.92, 'Bahrain': 4.89, 'Chad': 0.30000000000000004, \"Cte d'Ivoire\": 2.2, 'Egypt': 0.42000000000000004, 'Saudi Arabia': 0.15, 'Kiribati': 0.48, 'Czech Republic': 13.009999999999998, 'Switzerland': 13.849999999999998, 'Lesotho': 2.02, 'Comoros': 0.10999999999999999, 'United Arab Emirates': 4.43, 'Brunei Darussalam': 2.7800000000000002, 'Eritrea': 0.29, \"Democratic People's Republic of Korea\": 3.6799999999999997, 'Viet Nam': 0.16, 'Afghanistan': 0.0, 'Algeria': 0.4, 'Peru': 4.99, 'United Kingdom of Great Britain and Northern Ireland': 9.99, 'France': 16.05, 'Benin': 1.3800000000000001, 'Argentina': 10.82, 'Malta': 7.13, 'Cabo Verde': 2.79, 'Qatar': 1.4500000000000002, 'Denmark': 11.649999999999999, 'Equatorial Guinea': 6.49, 'Ghana': 1.8599999999999999, 'Bangladesh': 0.0, 'Singapore': 1.61, 'Albania': 1.73, 'Togo': 2.2199999999999998, 'Belarus': 7.9799999999999995, 'Honduras': 2.15, 'Kuwait': 0.0, 'Paraguay': 6.51, 'Slovenia': 12.969999999999999, 'Cyprus': 9.29, 'Syrian Arab Republic': 0.54, 'Sao Tome and Principe': 2.57, 'Antigua and Barbuda': 4.69, 'Niger': 0.11, 'Bahamas': 12.290000000000001, 'Congo': 3.1500000000000004, 'United States of America': 9.16, 'Papua New Guinea': 1.1099999999999999, 'Norway': 5.08, 'Guyana': 9.940000000000001, 'Ethiopia': 0.8600000000000001, 'Myanmar': 0.16, 'Philippines': 3.78, 'Japan': 7.74, 'Solomon Islands': 0.5800000000000001, 'Saint Kitts and Nevis': 4.65, 'Burkina Faso': 3.99, 'Belize': 0.0, 'Ireland': 11.79, 'Guinea-Bissau': 2.67, 'Sudan': 0.15, 'Poland': 9.33, 'Bolivia (Plurinational State of)': 3.05, 'Thailand': 3.92, 'Costa Rica': 5.3999999999999995, 'Mexico': 5.1, 'Australia': 12.09, 'Djibouti': 0.87, 'Mauritania': 0.02, 'Dominican Republic': 4.53, 'Iran (Islamic Republic of)': 0.0, 'Iraq': 0.75, 'Bhutan': 0.31, 'Kenya': 2.82, 'Italy': 10.899999999999999, 'Nepal': 0.03, 'United Republic of Tanzania': 5.9, 'Zimbabwe': 4.92, 'Swaziland': 6.68, 'Austria': 13.9, 'Fiji': 1.9600000000000002, 'Libya': 0.0, 'Luxembourg': 15.21, 'Kyrgyzstan': 4.279999999999999, 'Mali': 0.6699999999999999, 'Cambodia': 0.33, 'Sierra Leone': 4.380000000000001, 'Finland': 9.419999999999998, 'Central African Republic': 2.5199999999999996, 'Samoa': 2.63, 'Haiti': 5.81, 'Botswana': 4.63, 'Slovakia': 12.700000000000001, 'Saint Lucia': 11.62, 'Mauritius': 3.54, 'Cuba': 4.37, 'El Salvador': 1.77, 'Somalia': 0.0, 'Venezuela (Bolivarian Republic of)': 7.87, 'Ecuador': 2.54, 'Angola': 2.28, \"Lao People's Democratic Republic\": 5.95, 'Lithuania': 0.0, 'Micronesia (Federated States of)': 0.0, 'Colombia': 6.960000000000001, 'Netherlands': 10.030000000000001, 'India': 1.66, 'Suriname': 3.67, 'Rwanda': 7.549999999999999, 'Cameroon': 6.359999999999999, 'Chile': 8.649999999999999, 'Burundi': 8.159999999999998, 'Greece': 10.15, 'Sweden': 7.47, 'Vanuatu': 1.74, 'New Zealand': 11.52, 'South Africa': 9.21, 'Turkey': 0.72, 'Indonesia': 0.07, 'Republic of Korea': 9.620000000000001, 'Madagascar': 1.38, 'Malawi': 1.02, 'Portugal': 15.350000000000001, 'Guinea': 0.21, 'Nicaragua': 2.5, 'Germany': 14.64, 'Tunisia': 0.95, 'Jamaica': 3.03, 'Zambia': 3.37, 'Spain': 13.280000000000001, 'Latvia': 7.039999999999999, 'Morocco': 0.7, 'Nigeria': 6.74, 'Uruguay': 7.4399999999999995, 'Ukraine': 5.32, 'Bulgaria': 11.43, 'Israel': 2.0300000000000002, 'Mozambique': 0.39, 'Sri Lanka': 0.14, 'Pakistan': 0.02, 'Canada': 9.0, 'Lebanon': 3.94, 'Belgium': 11.61} \n",
      "\n"
     ]
    }
   ],
   "source": [
    "# Anthony\n",
    "year = input(\"Entrez une année : \")\n",
    "\n",
    "\n",
    "class Check_Conso_Mean_Country():\n",
    "\n",
    "    def __init__(self, year):\n",
    "        self.year = year\n",
    "        self.mean_country = self._check_mean_country()\n",
    "    \n",
    "    def _check_mean_country(self):\n",
    "        \n",
    "        totals = {}\n",
    "        is_year = world_alcohol[:,0] == self.year\n",
    "        countries = world_alcohol[:,2]\n",
    "        countriesD = set(countries)\n",
    "        countries = list(countriesD)\n",
    "        for i in countries :\n",
    "            masque = (world_alcohol[:,0] == self.year) & (world_alcohol[:,2] == i)\n",
    "            total_i = world_alcohol[masque,4].astype(float).sum()\n",
    "            totals[i] = total_i\n",
    "        return totals\n",
    "\n",
    "\n",
    "testclass = Check_Conso_Mean_Country(year)\n",
    "\n",
    "print(testclass.mean_country , '\\n')"
   ]
  },
  {
   "cell_type": "code",
   "execution_count": null,
   "metadata": {},
   "outputs": [],
   "source": []
  }
 ],
 "metadata": {
  "kernelspec": {
   "display_name": "Python 3",
   "language": "python",
   "name": "python3"
  },
  "language_info": {
   "codemirror_mode": {
    "name": "ipython",
    "version": 3
   },
   "file_extension": ".py",
   "mimetype": "text/x-python",
   "name": "python",
   "nbconvert_exporter": "python",
   "pygments_lexer": "ipython3",
   "version": "3.8.5"
  }
 },
 "nbformat": 4,
 "nbformat_minor": 4
}
